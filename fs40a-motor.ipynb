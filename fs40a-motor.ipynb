{
 "cells": [
  {
   "cell_type": "markdown",
   "id": "c04116a5-7fb0-4572-835b-4513db39ab94",
   "metadata": {},
   "source": [
    "#### ***Parametric monitoring of motor usage for PdM per recipe:*** A machine learning model applying a trend regression analysis on \"n\" exponential moving averages (EMA) to predict the health of a motor. "
   ]
  },
  {
   "cell_type": "markdown",
   "id": "2624cfe0-715c-4b0b-b110-1268e376a502",
   "metadata": {},
   "source": [
    "***Flowchart of the algorithm***"
   ]
  },
  {
   "cell_type": "markdown",
   "id": "6c142e7a-5991-4c3d-9570-649fb51ca87d",
   "metadata": {},
   "source": [
    "![Flowchart](img/Torque_Flow_Diagram.png)"
   ]
  },
  {
   "cell_type": "markdown",
   "id": "f3fb2991-131e-484e-aaab-ae27c3683a92",
   "metadata": {},
   "source": [
    "***Creating \"healthy\" pseudo Shred_Torque_Fbk_Raw observations (n = 1000)***"
   ]
  },
  {
   "cell_type": "code",
   "execution_count": 113,
   "id": "68b961af-61eb-4e2e-b750-74b344ec47b9",
   "metadata": {},
   "outputs": [],
   "source": [
    "import numpy as np\n",
    "import pandas as pd\n",
    "import matplotlib.pyplot as plt\n",
    "\n",
    "with open(\"data/obs.csv\", \"w+\"):\n",
    "    np.random.seed(0)\n",
    "    df = pd.DataFrame(np.random.randint(290, 310, 1000), columns=['Torque'])\n",
    "    df.to_csv('data/obs.csv')  "
   ]
  },
  {
   "cell_type": "markdown",
   "id": "98a8767b-c558-4e02-a77c-e853e2e512d7",
   "metadata": {},
   "source": [
    "***Plotting the data***"
   ]
  },
  {
   "cell_type": "code",
   "execution_count": 142,
   "id": "714e2d64-e366-47f0-94e7-93f52b3b27cf",
   "metadata": {},
   "outputs": [
    {
     "data": {
      "text/plain": [
       "<AxesSubplot:xlabel='index', ylabel='Torque'>"
      ]
     },
     "execution_count": 142,
     "metadata": {},
     "output_type": "execute_result"
    },
    {
     "data": {
      "image/png": "[encoded data removed]",
      "text/plain": [
       "<Figure size 432x288 with 1 Axes>"
      ]
     },
     "metadata": {
      "needs_background": "light"
     },
     "output_type": "display_data"
    }
   ],
   "source": [
    "df = pd.read_csv('data/obs.csv')\n",
    "df.reset_index().plot(kind='scatter', s=0.5, x='index', y='Torque', c='DarkBlue', ylim=(100, 500))"
   ]
  },
  {
   "cell_type": "markdown",
   "id": "684be1ec-1462-433d-a32c-1e741061877f",
   "metadata": {},
   "source": [
    "***Applying EMA and showing the result***"
   ]
  },
  {
   "cell_type": "code",
   "execution_count": 132,
   "id": "f4238ee1-703a-408b-abff-b151a2b9110e",
   "metadata": {},
   "outputs": [
    {
     "name": "stdout",
     "output_type": "stream",
     "text": [
      "Today's EMA is: 301.1169433699982\n"
     ]
    }
   ],
   "source": [
    "df = pd.read_csv('data/obs.csv')\n",
    "ewm = df['Torque'].ewm(span=4, adjust=False).mean()\n",
    "#Interested only in the last smoothed result i.e today's EMA\n",
    "print(\"Today's EMA is: {}\".format(ewm[len(df)-1]))"
   ]
  },
  {
   "cell_type": "markdown",
   "id": "be5d067e-87f6-4893-83f1-979a2d2495ab",
   "metadata": {},
   "source": [
    "***Generating n=30 \"healthy\" pseudo EMAs***"
   ]
  },
  {
   "cell_type": "code",
   "execution_count": 240,
   "id": "63d8c79f-99fc-4460-916c-87be233923f8",
   "metadata": {},
   "outputs": [],
   "source": [
    "ewm_list = []\n",
    "for x in range(30):\n",
    "    df = pd.DataFrame(np.random.randint(290, 310, 1000), columns=['Torque'])\n",
    "    ewm = df['Torque'].ewm(span=4, adjust=False).mean()\n",
    "    ewm_today = ewm[len(df)-1]\n",
    "    ewm_list.append(ewm_today)\n",
    "dfe = pd.DataFrame(ewm_list, columns=['EWM'])\n",
    "with open(\"data/ema.csv\", \"w+\"):\n",
    "    dfe.to_csv('data/ema.csv')"
   ]
  },
  {
   "cell_type": "markdown",
   "id": "cabcbbaa-4396-49c4-9462-967bae0de363",
   "metadata": {},
   "source": [
    "***Plotting the data and showing trend***"
   ]
  },
  {
   "cell_type": "code",
   "execution_count": 241,
   "id": "7fed3bb1-1dce-4940-9396-1c9ad280ade0",
   "metadata": {},
   "outputs": [
    {
     "data": {
      "image/png": "[encoded data removed]",
      "text/plain": [
       "<Figure size 432x288 with 1 Axes>"
      ]
     },
     "metadata": {
      "needs_background": "light"
     },
     "output_type": "display_data"
    },
    {
     "name": "stdout",
     "output_type": "stream",
     "text": [
      "y=0.014749x+(300.696731)\n"
     ]
    }
   ],
   "source": [
    "df = pd.read_csv('data/ema.csv')\n",
    "df.reset_index().plot.scatter(x='index', y='EWM', ylim=(100, 400))\n",
    "#show trend \n",
    "y = df[\"EWM\"]\n",
    "x = df.index\n",
    "z = np.polyfit(x, y, 1)\n",
    "p = np.poly1d(z)\n",
    "plt.plot(x,p(x),\"r--\")\n",
    "plt.show()\n",
    "print(\"y=%.6fx+(%.6f)\"%(z[0],z[1]))\n"
   ]
  },
  {
   "cell_type": "markdown",
   "id": "b02b3c4c-ed3e-49ff-b6c7-0ac93f56eb45",
   "metadata": {},
   "source": [
    "***Adding \"unhealthy\" pseudo Shred_Torque_Fbk_Raw observations***"
   ]
  },
  {
   "cell_type": "code",
   "execution_count": 242,
   "id": "ff4ac332-d98c-4430-be73-68dc0fe33b7a",
   "metadata": {},
   "outputs": [],
   "source": [
    "#quick and dirty using n=100 for EWM \n",
    "y_list =[]\n",
    "ewm_list = []\n",
    "i = 310\n",
    "for x in range(30):\n",
    "    i+=1\n",
    "    y1_list = []\n",
    "    for x1 in range(100):\n",
    "        if x1 == 0:\n",
    "            continue\n",
    "        y = np.log2(x1)+(np.random.randint(i, i + 10)) \n",
    "        y1_list.append(y)\n",
    "    df = pd.DataFrame(y1_list, columns=['Torque'])\n",
    "    ewm = df['Torque'].ewm(span=4, adjust=False).mean()\n",
    "    ewm_today = ewm[len(df)-1]\n",
    "    ewm_list.append(ewm_today)\n",
    "\n",
    "df_ema_old = pd.read_csv('data/ema.csv')\n",
    "df_ema_new = pd.DataFrame(ewm_list, columns=['EWM'])\n",
    "df_ema_concat = pd.concat([df_ema_old, df_ema_new], axis=0, ignore_index=True)\n",
    "with open(\"data/ema.csv\", \"w+\"):\n",
    "    df_ema_concat.to_csv('data/ema.csv')\n"
   ]
  },
  {
   "cell_type": "markdown",
   "id": "6f134acc-17be-4204-b65d-fb80869d98e1",
   "metadata": {},
   "source": [
    "***Plotting the data and showing trend***"
   ]
  },
  {
   "cell_type": "code",
   "execution_count": 243,
   "id": "39e7bc57-c2eb-43b0-a8fd-4d058b7e3cc6",
   "metadata": {},
   "outputs": [
    {
     "data": {
      "image/png": "[encoded data removed]",
      "text/plain": [
       "<Figure size 432x288 with 1 Axes>"
      ]
     },
     "metadata": {
      "needs_background": "light"
     },
     "output_type": "display_data"
    },
    {
     "name": "stdout",
     "output_type": "stream",
     "text": [
      "y=1.025850x+(288.579310)\n"
     ]
    }
   ],
   "source": [
    "df = pd.read_csv('data/ema.csv')\n",
    "df.reset_index().plot.scatter(x='index', y='EWM', ylim=(100, 400))\n",
    "#show trend \n",
    "y = df[\"EWM\"]\n",
    "x = df.index\n",
    "z = np.polyfit(x, y, 1)\n",
    "p = np.poly1d(z)\n",
    "plt.plot(x,p(x),\"r--\")\n",
    "plt.show()\n",
    "print(\"y=%.6fx+(%.6f)\"%(z[0],z[1]))"
   ]
  },
  {
   "cell_type": "markdown",
   "id": "319784bc-e24f-448a-91bb-f67b93786659",
   "metadata": {},
   "source": [
    "### Slope is greater than 1.0 send alert."
   ]
  },
  {
   "cell_type": "code",
   "execution_count": null,
   "id": "0bae4119-c010-48b8-b4db-aa835fa00c54",
   "metadata": {},
   "outputs": [],
   "source": []
  }
 ],
 "metadata": {
  "kernelspec": {
   "display_name": "Python 3 (ipykernel)",
   "language": "python",
   "name": "python3"
  },
  "language_info": {
   "codemirror_mode": {
    "name": "ipython",
    "version": 3
   },
   "file_extension": ".py",
   "mimetype": "text/x-python",
   "name": "python",
   "nbconvert_exporter": "python",
   "pygments_lexer": "ipython3",
   "version": "3.8.6"
  }
 },
 "nbformat": 4,
 "nbformat_minor": 5
}
